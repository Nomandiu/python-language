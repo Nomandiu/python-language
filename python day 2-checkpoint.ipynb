{
 "cells": [
  {
   "cell_type": "code",
   "execution_count": 190,
   "id": "7bd40729",
   "metadata": {},
   "outputs": [
    {
     "name": "stdout",
     "output_type": "stream",
     "text": [
      "Hellow world\n"
     ]
    }
   ],
   "source": [
    "print(\"Hellow world\")"
   ]
  },
  {
   "cell_type": "code",
   "execution_count": 191,
   "id": "5e47ab0b",
   "metadata": {},
   "outputs": [
    {
     "name": "stdout",
     "output_type": "stream",
     "text": [
      "result is: 15\n"
     ]
    }
   ],
   "source": [
    "a=10\n",
    "b=5\n",
    "c=a+b\n",
    "print(\"result is:\",c)"
   ]
  },
  {
   "cell_type": "code",
   "execution_count": 192,
   "id": "28435b48",
   "metadata": {},
   "outputs": [
    {
     "name": "stdout",
     "output_type": "stream",
     "text": [
      "Hellow world & welcome to our python class*"
     ]
    }
   ],
   "source": [
    "print('Hellow world','welcome to our python class',sep=' & ', end='*')"
   ]
  },
  {
   "cell_type": "code",
   "execution_count": 193,
   "id": "8e5d95e7",
   "metadata": {},
   "outputs": [
    {
     "name": "stdout",
     "output_type": "stream",
     "text": [
      "Noman porag\n"
     ]
    }
   ],
   "source": [
    "var='Noman porag'\n",
    "print(var)"
   ]
  },
  {
   "cell_type": "code",
   "execution_count": 194,
   "id": "a6c0920f",
   "metadata": {},
   "outputs": [
    {
     "name": "stdout",
     "output_type": "stream",
     "text": [
      "Noman porag is a good boy\n"
     ]
    }
   ],
   "source": [
    " print(var+' is a good boy')"
   ]
  },
  {
   "cell_type": "code",
   "execution_count": 195,
   "id": "8cd1106a",
   "metadata": {},
   "outputs": [
    {
     "data": {
      "text/plain": [
       "1768768298992"
      ]
     },
     "execution_count": 195,
     "metadata": {},
     "output_type": "execute_result"
    }
   ],
   "source": [
    "id(var)"
   ]
  },
  {
   "cell_type": "code",
   "execution_count": 196,
   "id": "59e326d1",
   "metadata": {},
   "outputs": [
    {
     "data": {
      "text/plain": [
       "60"
      ]
     },
     "execution_count": 196,
     "metadata": {},
     "output_type": "execute_result"
    }
   ],
   "source": [
    "import sys\n",
    "sys.getsizeof(var)"
   ]
  },
  {
   "cell_type": "code",
   "execution_count": 197,
   "id": "359986e4",
   "metadata": {},
   "outputs": [
    {
     "data": {
      "text/plain": [
       "100"
      ]
     },
     "execution_count": 197,
     "metadata": {},
     "output_type": "execute_result"
    }
   ],
   "source": [
    "x=100\n",
    "x"
   ]
  },
  {
   "cell_type": "code",
   "execution_count": null,
   "id": "d4df3f60",
   "metadata": {},
   "outputs": [],
   "source": []
  },
  {
   "cell_type": "code",
   "execution_count": 198,
   "id": "7e66d50e",
   "metadata": {},
   "outputs": [
    {
     "data": {
      "text/plain": [
       "200"
      ]
     },
     "execution_count": 198,
     "metadata": {},
     "output_type": "execute_result"
    }
   ],
   "source": [
    "y=200\n",
    "y"
   ]
  },
  {
   "cell_type": "code",
   "execution_count": 199,
   "id": "0d748a64",
   "metadata": {},
   "outputs": [
    {
     "data": {
      "text/plain": [
       "1768659094864"
      ]
     },
     "execution_count": 199,
     "metadata": {},
     "output_type": "execute_result"
    }
   ],
   "source": [
    "id(x)\n"
   ]
  },
  {
   "cell_type": "code",
   "execution_count": 200,
   "id": "92936e3a",
   "metadata": {},
   "outputs": [
    {
     "data": {
      "text/plain": [
       "1768659098064"
      ]
     },
     "execution_count": 200,
     "metadata": {},
     "output_type": "execute_result"
    }
   ],
   "source": [
    "id(y)"
   ]
  },
  {
   "cell_type": "code",
   "execution_count": 201,
   "id": "900532c9",
   "metadata": {},
   "outputs": [
    {
     "data": {
      "text/plain": [
       "1768768587632"
      ]
     },
     "execution_count": 201,
     "metadata": {},
     "output_type": "execute_result"
    }
   ],
   "source": [
    "x=1000\n",
    "y=1000\n",
    "id(x)"
   ]
  },
  {
   "cell_type": "code",
   "execution_count": 202,
   "id": "fdde9125",
   "metadata": {},
   "outputs": [
    {
     "data": {
      "text/plain": [
       "1768768586128"
      ]
     },
     "execution_count": 202,
     "metadata": {},
     "output_type": "execute_result"
    }
   ],
   "source": [
    "id(y)"
   ]
  },
  {
   "cell_type": "code",
   "execution_count": 203,
   "id": "8887771f",
   "metadata": {},
   "outputs": [
    {
     "data": {
      "text/plain": [
       "'porag'"
      ]
     },
     "execution_count": 203,
     "metadata": {},
     "output_type": "execute_result"
    }
   ],
   "source": [
    "name='porag'\n",
    "name"
   ]
  },
  {
   "cell_type": "code",
   "execution_count": 204,
   "id": "45d1e4bf",
   "metadata": {},
   "outputs": [
    {
     "data": {
      "text/plain": [
       "100"
      ]
     },
     "execution_count": 204,
     "metadata": {},
     "output_type": "execute_result"
    }
   ],
   "source": [
    "var_2=100\n",
    "var_2"
   ]
  },
  {
   "cell_type": "code",
   "execution_count": 205,
   "id": "fa21d985",
   "metadata": {},
   "outputs": [],
   "source": [
    "x,y,z=10,100,1000"
   ]
  },
  {
   "cell_type": "code",
   "execution_count": 206,
   "id": "2451675b",
   "metadata": {},
   "outputs": [
    {
     "data": {
      "text/plain": [
       "10"
      ]
     },
     "execution_count": 206,
     "metadata": {},
     "output_type": "execute_result"
    }
   ],
   "source": [
    "x"
   ]
  },
  {
   "cell_type": "code",
   "execution_count": 207,
   "id": "9cbd9500",
   "metadata": {},
   "outputs": [
    {
     "data": {
      "text/plain": [
       "100"
      ]
     },
     "execution_count": 207,
     "metadata": {},
     "output_type": "execute_result"
    }
   ],
   "source": [
    "y"
   ]
  },
  {
   "cell_type": "code",
   "execution_count": 208,
   "id": "7e0d18e1",
   "metadata": {},
   "outputs": [
    {
     "data": {
      "text/plain": [
       "1000"
      ]
     },
     "execution_count": 208,
     "metadata": {},
     "output_type": "execute_result"
    }
   ],
   "source": [
    "z"
   ]
  },
  {
   "cell_type": "code",
   "execution_count": 209,
   "id": "b351ba11",
   "metadata": {},
   "outputs": [
    {
     "data": {
      "text/plain": [
       "100"
      ]
     },
     "execution_count": 209,
     "metadata": {},
     "output_type": "execute_result"
    }
   ],
   "source": [
    "var_2"
   ]
  },
  {
   "cell_type": "code",
   "execution_count": 210,
   "id": "f1c31fb0",
   "metadata": {},
   "outputs": [
    {
     "data": {
      "text/plain": [
       "100"
      ]
     },
     "execution_count": 210,
     "metadata": {},
     "output_type": "execute_result"
    }
   ],
   "source": [
    "varsity_id=100\n",
    "varsity_id"
   ]
  },
  {
   "cell_type": "markdown",
   "id": "fb20e2c4",
   "metadata": {},
   "source": [
    "# local vs gloval"
   ]
  },
  {
   "cell_type": "code",
   "execution_count": 219,
   "id": "033d5677",
   "metadata": {},
   "outputs": [
    {
     "name": "stdout",
     "output_type": "stream",
     "text": [
      "My Num is 500\n"
     ]
    }
   ],
   "source": [
    "X = 10\n",
    "\n",
    "def func1():\n",
    "    global X\n",
    "    # Declare x as a global variable\n",
    "    \n",
    "    print('My Num is', X)\n",
    "\n",
    "func1()\n",
    "\n",
    "   \n",
    "    "
   ]
  },
  {
   "cell_type": "code",
   "execution_count": 228,
   "id": "7dfdc7e5",
   "metadata": {},
   "outputs": [
    {
     "ename": "IndentationError",
     "evalue": "expected an indented block after function definition on line 1 (2574698706.py, line 3)",
     "output_type": "error",
     "traceback": [
      "\u001b[1;36m  Cell \u001b[1;32mIn[228], line 3\u001b[1;36m\u001b[0m\n\u001b[1;33m    global X\u001b[0m\n\u001b[1;37m    ^\u001b[0m\n\u001b[1;31mIndentationError\u001b[0m\u001b[1;31m:\u001b[0m expected an indented block after function definition on line 1\n"
     ]
    }
   ],
   "source": [
    "\n",
    "X=80\n",
    "def func1():\n",
    "\n",
    "global X\n",
    "    X=500 #local \n",
    "     \n",
    "    print('My Num is', X)\n",
    "\n",
    "func1()\n",
    "print('the number is:',X)"
   ]
  },
  {
   "cell_type": "code",
   "execution_count": null,
   "id": "affb13b2",
   "metadata": {},
   "outputs": [],
   "source": []
  }
 ],
 "metadata": {
  "kernelspec": {
   "display_name": "Python 3 (ipykernel)",
   "language": "python",
   "name": "python3"
  },
  "language_info": {
   "codemirror_mode": {
    "name": "ipython",
    "version": 3
   },
   "file_extension": ".py",
   "mimetype": "text/x-python",
   "name": "python",
   "nbconvert_exporter": "python",
   "pygments_lexer": "ipython3",
   "version": "3.10.9"
  }
 },
 "nbformat": 4,
 "nbformat_minor": 5
}
